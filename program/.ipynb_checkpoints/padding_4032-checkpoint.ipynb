{
 "cells": [
  {
   "cell_type": "code",
   "execution_count": 1,
   "id": "dcb29878",
   "metadata": {},
   "outputs": [],
   "source": [
    "import os"
   ]
  },
  {
   "cell_type": "code",
   "execution_count": 2,
   "id": "251d5504",
   "metadata": {},
   "outputs": [],
   "source": [
    "def makedir(dir):\n",
    "  if not os.path.exists(dir):\n",
    "    os.makedirs(dir)"
   ]
  },
  {
   "cell_type": "code",
   "execution_count": 3,
   "id": "ce100ee9",
   "metadata": {},
   "outputs": [],
   "source": [
    "img_path = \"./../Picture_before/1\"\n",
    "out_path = \"./../Picture_after/1/4032\"\n",
    "makedir(out_path)\n",
    "min_size = 4032"
   ]
  },
  {
   "cell_type": "code",
   "execution_count": 4,
   "id": "f6b724f0",
   "metadata": {},
   "outputs": [],
   "source": [
    "import cv2\n",
    "\n",
    "class Img:\n",
    "  def __init__(self, path):\n",
    "    im = cv2.imread(path)\n",
    "    h, w, c = im.shape\n",
    "    self.height = h\n",
    "    self.width = w\n",
    "    self.channel = c"
   ]
  },
  {
   "cell_type": "code",
   "execution_count": 7,
   "id": "7d8064db",
   "metadata": {},
   "outputs": [
    {
     "ename": "IndentationError",
     "evalue": "unexpected indent (3088526529.py, line 10)",
     "output_type": "error",
     "traceback": [
      "\u001b[1;36m  Input \u001b[1;32mIn [7]\u001b[1;36m\u001b[0m\n\u001b[1;33m    finh = int((min_size + h) /2)\u001b[0m\n\u001b[1;37m    ^\u001b[0m\n\u001b[1;31mIndentationError\u001b[0m\u001b[1;31m:\u001b[0m unexpected indent\n"
     ]
    }
   ],
   "source": [
    "import numpy as np\n",
    "import os\n",
    "\n",
    "def padding_0(path, min_size, out_path):\n",
    "  img = cv2.imread(path)\n",
    "  h, w, _ = img.shape\n",
    "  flag = 0\n",
    "  newimg = np.zeros((min_size,min_size,3))\n",
    "  starth = int((min_size -h)/2)\n",
    "  finh = int((min_size + h) /2)\n",
    "  startw = int((min_size - w) / 2)\n",
    "  finw = int((min_size + w) / 2)\n",
    "  newimg[starth:finh, startw:finw] =img\n",
    "  flag = 1\n",
    "    \n",
    "#   if h < min_size:\n",
    "#     print(\"b\")\n",
    "#     newimg = np.zeros((min_size, w, 3))\n",
    "#     start = int((min_size - h) / 2)\n",
    "#     fin = int((min_size + h) / 2)\n",
    "#     newimg[start:fin, :] = img\n",
    "#     flag = 1\n",
    "  \n",
    "#   if w < min_size:\n",
    "#     print(\"c\")\n",
    "#     newimg = np.zeros((h, min_size, 3))\n",
    "#     start = int((min_size - w) / 2)\n",
    "#     fin = int((min_size + w) / 2)\n",
    "#     newimg[:, start:fin] = img\n",
    "#     flag = 1\n",
    "\n",
    "  if flag == 1:\n",
    "    file_name = os.path.splitext(os.path.basename(path))[0]\n",
    "    cv2.imwrite(os.path.join(out_path, file_name + '.jpg'), newimg)\n",
    "  else:\n",
    "    file_name = os.path.splitext(os.path.basename(path))[0]\n",
    "    cv2.imwrite(os.path.join(out_path, file_name + '.jpg'), img)"
   ]
  },
  {
   "cell_type": "code",
   "execution_count": null,
   "id": "2a4cf6ae",
   "metadata": {},
   "outputs": [],
   "source": [
    "import glob\n",
    "\n",
    "for path in glob.glob(os.path.join(img_path, '*')):\n",
    "  padding_0(path, min_size, out_path)"
   ]
  },
  {
   "cell_type": "code",
   "execution_count": null,
   "id": "9eaa01f8",
   "metadata": {},
   "outputs": [],
   "source": []
  }
 ],
 "metadata": {
  "kernelspec": {
   "display_name": "Python 3 (ipykernel)",
   "language": "python",
   "name": "python3"
  },
  "language_info": {
   "codemirror_mode": {
    "name": "ipython",
    "version": 3
   },
   "file_extension": ".py",
   "mimetype": "text/x-python",
   "name": "python",
   "nbconvert_exporter": "python",
   "pygments_lexer": "ipython3",
   "version": "3.9.12"
  }
 },
 "nbformat": 4,
 "nbformat_minor": 5
}
