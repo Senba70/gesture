{
 "cells": [
  {
   "cell_type": "code",
   "execution_count": 1,
   "id": "dcb29878",
   "metadata": {},
   "outputs": [],
   "source": [
    "import os"
   ]
  },
  {
   "cell_type": "code",
   "execution_count": 2,
   "id": "251d5504",
   "metadata": {},
   "outputs": [],
   "source": [
    "def makedir(dir):\n",
    "  if not os.path.exists(dir):\n",
    "    os.makedirs(dir)"
   ]
  },
  {
   "cell_type": "code",
   "execution_count": 3,
   "id": "ce100ee9",
   "metadata": {},
   "outputs": [],
   "source": [
    "img_path = \"./../Picture_before/1\"\n",
    "out_path = \"./../Picture_after/1/4032\"\n",
    "makedir(out_path)\n",
    "min_size = 4032"
   ]
  },
  {
   "cell_type": "code",
   "execution_count": 4,
   "id": "f6b724f0",
   "metadata": {},
   "outputs": [],
   "source": [
    "import cv2\n",
    "\n",
    "class Img:\n",
    "  def __init__(self, path):\n",
    "    im = cv2.imread(path)\n",
    "    h, w, c = im.shape\n",
    "    self.height = h\n",
    "    self.width = w\n",
    "    self.channel = c"
   ]
  },
  {
   "cell_type": "code",
   "execution_count": 5,
   "id": "7d8064db",
   "metadata": {},
   "outputs": [],
   "source": [
    "import numpy as np\n",
    "import os\n",
    "\n",
    "def padding_0(path, min_size, out_path):\n",
    "  img = cv2.imread(path)\n",
    "  h, w, _ = img.shape\n",
    "  flag = 0\n",
    "  if w <= min_size and h <= min_size:\n",
    "    newimg = np.zeros((min_size,min_size,3))\n",
    "    starth = int((min_size -h)/2)\n",
    "    finh = int((min_size + h) /2)\n",
    "    startw = int((min_size - w) / 2)\n",
    "    finw = int((min_size + w) / 2)\n",
    "    newimg[starth:finh, startw:finw] =img\n",
    "    flag = 1\n",
    " \n",
    "  if w > min_size or h > min_size:\n",
    "    newimg = np.zeros((min_size,min_size,3))\n",
    "    starth = int((min_size -h)/2)\n",
    "    finh = int((min_size + h) /2)\n",
    "    startw = int((min_size - w) / 2)\n",
    "    finw = int((min_size + w) / 2)\n",
    "    newimg[starth:finh, startw:finw] =img\n",
    "    flag = 1\n",
    "    \n",
    "#   if h < min_size:\n",
    "#     print(\"b\")\n",
    "#     newimg = np.zeros((min_size, w, 3))\n",
    "#     start = int((min_size - h) / 2)\n",
    "#     fin = int((min_size + h) / 2)\n",
    "#     newimg[start:fin, :] = img\n",
    "#     flag = 1\n",
    "  \n",
    "#   if w < min_size:\n",
    "#     print(\"c\")\n",
    "#     newimg = np.zeros((h, min_size, 3))\n",
    "#     start = int((min_size - w) / 2)\n",
    "#     fin = int((min_size + w) / 2)\n",
    "#     newimg[:, start:fin] = img\n",
    "#     flag = 1\n",
    "\n",
    "  if flag == 1:\n",
    "    file_name = os.path.splitext(os.path.basename(path))[0]\n",
    "    cv2.imwrite(os.path.join(out_path, file_name + '.jpg'), newimg)\n",
    "  else:\n",
    "    file_name = os.path.splitext(os.path.basename(path))[0]\n",
    "    cv2.imwrite(os.path.join(out_path, file_name + '.jpg'), img)"
   ]
  },
  {
   "cell_type": "code",
   "execution_count": 6,
   "id": "2a4cf6ae",
   "metadata": {},
   "outputs": [
    {
     "ename": "ValueError",
     "evalue": "could not broadcast input array from shape (3096,5504,3) into shape (3096,0,3)",
     "output_type": "error",
     "traceback": [
      "\u001b[1;31m---------------------------------------------------------------------------\u001b[0m",
      "\u001b[1;31mValueError\u001b[0m                                Traceback (most recent call last)",
      "Input \u001b[1;32mIn [6]\u001b[0m, in \u001b[0;36m<cell line: 3>\u001b[1;34m()\u001b[0m\n\u001b[0;32m      1\u001b[0m \u001b[38;5;28;01mimport\u001b[39;00m \u001b[38;5;21;01mglob\u001b[39;00m\n\u001b[0;32m      3\u001b[0m \u001b[38;5;28;01mfor\u001b[39;00m path \u001b[38;5;129;01min\u001b[39;00m glob\u001b[38;5;241m.\u001b[39mglob(os\u001b[38;5;241m.\u001b[39mpath\u001b[38;5;241m.\u001b[39mjoin(img_path, \u001b[38;5;124m'\u001b[39m\u001b[38;5;124m*\u001b[39m\u001b[38;5;124m'\u001b[39m)):\n\u001b[1;32m----> 4\u001b[0m   \u001b[43mpadding_0\u001b[49m\u001b[43m(\u001b[49m\u001b[43mpath\u001b[49m\u001b[43m,\u001b[49m\u001b[43m \u001b[49m\u001b[43mmin_size\u001b[49m\u001b[43m,\u001b[49m\u001b[43m \u001b[49m\u001b[43mout_path\u001b[49m\u001b[43m)\u001b[49m\n",
      "Input \u001b[1;32mIn [5]\u001b[0m, in \u001b[0;36mpadding_0\u001b[1;34m(path, min_size, out_path)\u001b[0m\n\u001b[0;32m     21\u001b[0m     startw \u001b[38;5;241m=\u001b[39m \u001b[38;5;28mint\u001b[39m((min_size) \u001b[38;5;241m/\u001b[39m \u001b[38;5;241m2\u001b[39m)\n\u001b[0;32m     22\u001b[0m     finw \u001b[38;5;241m=\u001b[39m \u001b[38;5;28mint\u001b[39m((min_size) \u001b[38;5;241m/\u001b[39m \u001b[38;5;241m2\u001b[39m)\n\u001b[1;32m---> 23\u001b[0m     newimg[starth:finh, startw:finw] \u001b[38;5;241m=\u001b[39mimg\n\u001b[0;32m     24\u001b[0m     flag \u001b[38;5;241m=\u001b[39m \u001b[38;5;241m1\u001b[39m\n\u001b[0;32m     26\u001b[0m \u001b[38;5;66;03m#   if h < min_size:\u001b[39;00m\n\u001b[0;32m     27\u001b[0m \u001b[38;5;66;03m#     print(\"b\")\u001b[39;00m\n\u001b[0;32m     28\u001b[0m \u001b[38;5;66;03m#     newimg = np.zeros((min_size, w, 3))\u001b[39;00m\n\u001b[1;32m   (...)\u001b[0m\n\u001b[0;32m     39\u001b[0m \u001b[38;5;66;03m#     newimg[:, start:fin] = img\u001b[39;00m\n\u001b[0;32m     40\u001b[0m \u001b[38;5;66;03m#     flag = 1\u001b[39;00m\n",
      "\u001b[1;31mValueError\u001b[0m: could not broadcast input array from shape (3096,5504,3) into shape (3096,0,3)"
     ]
    }
   ],
   "source": [
    "import glob\n",
    "\n",
    "for path in glob.glob(os.path.join(img_path, '*')):\n",
    "  padding_0(path, min_size, out_path)"
   ]
  },
  {
   "cell_type": "code",
   "execution_count": null,
   "id": "9eaa01f8",
   "metadata": {},
   "outputs": [],
   "source": []
  }
 ],
 "metadata": {
  "kernelspec": {
   "display_name": "Python 3 (ipykernel)",
   "language": "python",
   "name": "python3"
  },
  "language_info": {
   "codemirror_mode": {
    "name": "ipython",
    "version": 3
   },
   "file_extension": ".py",
   "mimetype": "text/x-python",
   "name": "python",
   "nbconvert_exporter": "python",
   "pygments_lexer": "ipython3",
   "version": "3.9.12"
  }
 },
 "nbformat": 4,
 "nbformat_minor": 5
}
